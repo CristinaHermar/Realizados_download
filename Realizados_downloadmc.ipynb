{
 "cells": [
  {
   "cell_type": "code",
   "execution_count": 1,
   "id": "8cb1c98c",
   "metadata": {},
   "outputs": [],
   "source": [
    "#Importación de librerías\n",
    "import pandas as pd\n",
    "from selenium import webdriver\n",
    "import requests\n",
    "\n",
    "from selenium.webdriver.common.by import By\n",
    "\n",
    "import datetime as dt\n",
    "from datetime import date, timedelta\n"
   ]
  },
  {
   "cell_type": "code",
   "execution_count": 9,
   "id": "fb042242",
   "metadata": {},
   "outputs": [],
   "source": [
    "options = webdriver.ChromeOptions()\n",
    "options.add_argument('--headless')\n",
    "\n",
    "driver = webdriver.Chrome(chrome_options=options)"
   ]
  },
  {
   "cell_type": "code",
   "execution_count": 10,
   "id": "fc242e2d",
   "metadata": {},
   "outputs": [],
   "source": [
    "#Log en la página\n",
    "driver.get(\"http://www.nrweb.com.mx/leon/consulta_asignaciones-hisV1/\")"
   ]
  },
  {
   "cell_type": "code",
   "execution_count": 2,
   "id": "25f345d7",
   "metadata": {},
   "outputs": [
    {
     "data": {
      "text/plain": [
       "'2022-12-05'"
      ]
     },
     "execution_count": 2,
     "metadata": {},
     "output_type": "execute_result"
    }
   ],
   "source": [
    "#Definición fecha\n",
    "type_date= pd.Timestamp('today')  - timedelta(days=1)\n",
    "type_date = type_date.strftime(\"%Y-%m-%d\")\n",
    "type_date\n"
   ]
  },
  {
   "cell_type": "code",
   "execution_count": 12,
   "id": "b6cfdb29",
   "metadata": {},
   "outputs": [],
   "source": [
    "#Find fecha \n",
    "fecha_asig = driver.find_element(By.XPATH, \"//*[@id='fecha']\")\n",
    "fecha_asig.click()"
   ]
  },
  {
   "cell_type": "code",
   "execution_count": 13,
   "id": "08092d27",
   "metadata": {},
   "outputs": [],
   "source": [
    "#Type de fecha\n",
    "driver.execute_script(\"arguments[0].value = arguments[1];\", \n",
    "                      fecha_asig, type_date)"
   ]
  },
  {
   "cell_type": "code",
   "execution_count": 14,
   "id": "2fd7ceec",
   "metadata": {},
   "outputs": [],
   "source": [
    "#Clic en Generar\n",
    "generar = driver.find_element(By.XPATH, \n",
    "                              \"//*[@id='formulario']/form/input[2]\")\n",
    "generar.click()"
   ]
  },
  {
   "cell_type": "code",
   "execution_count": 15,
   "id": "eef702ee",
   "metadata": {},
   "outputs": [],
   "source": [
    "#Para que corra hasta que cargue la página y aparezca el botón Exportar\n",
    "error = True\n",
    "\n",
    "while error: \n",
    "    try:\n",
    "        exportar_realizados = driver.find_element(By.XPATH, \"//*[@id='formulario']/form/input[3]\")\n",
    "        exportar_realizados.click()\n",
    "        error=False\n",
    "    except:\n",
    "        error= True\n",
    "        "
   ]
  }
 ],
 "metadata": {
  "kernelspec": {
   "display_name": "Python 3 (ipykernel)",
   "language": "python",
   "name": "python3"
  },
  "language_info": {
   "codemirror_mode": {
    "name": "ipython",
    "version": 3
   },
   "file_extension": ".py",
   "mimetype": "text/x-python",
   "name": "python",
   "nbconvert_exporter": "python",
   "pygments_lexer": "ipython3",
   "version": "3.10.9"
  }
 },
 "nbformat": 4,
 "nbformat_minor": 5
}
